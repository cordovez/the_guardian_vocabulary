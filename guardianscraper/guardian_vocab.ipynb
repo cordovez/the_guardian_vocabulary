{
 "cells": [
  {
   "attachments": {},
   "cell_type": "markdown",
   "metadata": {},
   "source": [
    "# The Guardian Opinions: Text Classification and Bag-of-Words"
   ]
  },
  {
   "attachments": {},
   "cell_type": "markdown",
   "metadata": {},
   "source": [
    "Outline:\n",
    "- Import and explore data\n",
    "- Apply text preprocessing techniques\n",
    "- -Implement the bag-of-words model"
   ]
  },
  {
   "attachments": {},
   "cell_type": "markdown",
   "metadata": {},
   "source": [
    "## Import and explore data"
   ]
  },
  {
   "attachments": {},
   "cell_type": "markdown",
   "metadata": {},
   "source": [
    "The following data was collected using a Scrapy spider, found in this repository under /guardianscraper/guardianscraper/spiders/guardianspider.py"
   ]
  },
  {
   "cell_type": "code",
   "execution_count": 1,
   "metadata": {},
   "outputs": [],
   "source": [
    "import pandas as pd"
   ]
  },
  {
   "cell_type": "code",
   "execution_count": 3,
   "metadata": {},
   "outputs": [
    {
     "data": {
      "text/html": [
       "<div>\n",
       "<style scoped>\n",
       "    .dataframe tbody tr th:only-of-type {\n",
       "        vertical-align: middle;\n",
       "    }\n",
       "\n",
       "    .dataframe tbody tr th {\n",
       "        vertical-align: top;\n",
       "    }\n",
       "\n",
       "    .dataframe thead th {\n",
       "        text-align: right;\n",
       "    }\n",
       "</style>\n",
       "<table border=\"1\" class=\"dataframe\">\n",
       "  <thead>\n",
       "    <tr style=\"text-align: right;\">\n",
       "      <th></th>\n",
       "      <th>date</th>\n",
       "      <th>title</th>\n",
       "      <th>author</th>\n",
       "      <th>article</th>\n",
       "    </tr>\n",
       "  </thead>\n",
       "  <tbody>\n",
       "    <tr>\n",
       "      <th>0</th>\n",
       "      <td>2023/feb/07</td>\n",
       "      <td>Liz Truss set out her grand plan to me – and i...</td>\n",
       "      <td>Katy Balls</td>\n",
       "      <td>“You’ve set the cat among the pigeons,” messag...</td>\n",
       "    </tr>\n",
       "    <tr>\n",
       "      <th>1</th>\n",
       "      <td>2023/feb/07</td>\n",
       "      <td>The Gareth Thomas case proves it: no one wins ...</td>\n",
       "      <td>James Greig</td>\n",
       "      <td>Few public figures alive today have done more ...</td>\n",
       "    </tr>\n",
       "    <tr>\n",
       "      <th>2</th>\n",
       "      <td>2023/feb/07</td>\n",
       "      <td>There’s no cycle of violence in Jerusalem – on...</td>\n",
       "      <td>Jalal Abukhater</td>\n",
       "      <td>Almost every day, the bulldozers are on the mo...</td>\n",
       "    </tr>\n",
       "    <tr>\n",
       "      <th>3</th>\n",
       "      <td>2023/feb/06</td>\n",
       "      <td>The ‘leftwing economic establishment’ did not ...</td>\n",
       "      <td>Polly Toynbee</td>\n",
       "      <td>“This soul-searching has not been easy,” she w...</td>\n",
       "    </tr>\n",
       "    <tr>\n",
       "      <th>4</th>\n",
       "      <td>2023/feb/07</td>\n",
       "      <td>I have seen race hate in the US and UK and the...</td>\n",
       "      <td>Al Sharpton</td>\n",
       "      <td>I came to London more than 30 years ago to pro...</td>\n",
       "    </tr>\n",
       "    <tr>\n",
       "      <th>5</th>\n",
       "      <td>2023/feb/07</td>\n",
       "      <td>As the detective who inspired TV’s Prime Suspe...</td>\n",
       "      <td>Jackie Malton</td>\n",
       "      <td>We have now heard for the first time from Davi...</td>\n",
       "    </tr>\n",
       "    <tr>\n",
       "      <th>6</th>\n",
       "      <td>2023/feb/07</td>\n",
       "      <td>Britain, we had a thing with Truss and Johnson...</td>\n",
       "      <td>Marina Hyde</td>\n",
       "      <td>Liz Truss is now eluded by two major types of ...</td>\n",
       "    </tr>\n",
       "    <tr>\n",
       "      <th>7</th>\n",
       "      <td>2023/feb/07</td>\n",
       "      <td>Would I ditch a date after 51 minutes? I’ve wa...</td>\n",
       "      <td>Elle Hunt</td>\n",
       "      <td>Fifty-one minutes. It’s too long for a meeting...</td>\n",
       "    </tr>\n",
       "    <tr>\n",
       "      <th>8</th>\n",
       "      <td>2023/feb/07</td>\n",
       "      <td>As an ex police officer, this much is clear: a...</td>\n",
       "      <td>Steve White</td>\n",
       "      <td>The sentencing of David Carrick and the dreadf...</td>\n",
       "    </tr>\n",
       "    <tr>\n",
       "      <th>9</th>\n",
       "      <td>2023/feb/07</td>\n",
       "      <td>Jeremy Hunt says focus on the ‘economically in...</td>\n",
       "      <td>Frances Ryan</td>\n",
       "      <td>As the government lurches between screw-ups, s...</td>\n",
       "    </tr>\n",
       "  </tbody>\n",
       "</table>\n",
       "</div>"
      ],
      "text/plain": [
       "          date                                              title  \\\n",
       "0  2023/feb/07  Liz Truss set out her grand plan to me – and i...   \n",
       "1  2023/feb/07  The Gareth Thomas case proves it: no one wins ...   \n",
       "2  2023/feb/07  There’s no cycle of violence in Jerusalem – on...   \n",
       "3  2023/feb/06  The ‘leftwing economic establishment’ did not ...   \n",
       "4  2023/feb/07  I have seen race hate in the US and UK and the...   \n",
       "5  2023/feb/07  As the detective who inspired TV’s Prime Suspe...   \n",
       "6  2023/feb/07  Britain, we had a thing with Truss and Johnson...   \n",
       "7  2023/feb/07  Would I ditch a date after 51 minutes? I’ve wa...   \n",
       "8  2023/feb/07  As an ex police officer, this much is clear: a...   \n",
       "9  2023/feb/07  Jeremy Hunt says focus on the ‘economically in...   \n",
       "\n",
       "            author                                            article  \n",
       "0       Katy Balls  “You’ve set the cat among the pigeons,” messag...  \n",
       "1      James Greig  Few public figures alive today have done more ...  \n",
       "2  Jalal Abukhater  Almost every day, the bulldozers are on the mo...  \n",
       "3    Polly Toynbee  “This soul-searching has not been easy,” she w...  \n",
       "4      Al Sharpton  I came to London more than 30 years ago to pro...  \n",
       "5    Jackie Malton  We have now heard for the first time from Davi...  \n",
       "6      Marina Hyde  Liz Truss is now eluded by two major types of ...  \n",
       "7        Elle Hunt  Fifty-one minutes. It’s too long for a meeting...  \n",
       "8      Steve White  The sentencing of David Carrick and the dreadf...  \n",
       "9     Frances Ryan  As the government lurches between screw-ups, s...  "
      ]
     },
     "execution_count": 3,
     "metadata": {},
     "output_type": "execute_result"
    }
   ],
   "source": [
    "df = pd.read_csv('./guardian_data.csv')\n",
    "df.head(10)"
   ]
  },
  {
   "cell_type": "code",
   "execution_count": 6,
   "metadata": {},
   "outputs": [],
   "source": [
    "sample_article = df.article.values[0]\n"
   ]
  },
  {
   "cell_type": "code",
   "execution_count": null,
   "metadata": {},
   "outputs": [],
   "source": []
  }
 ],
 "metadata": {
  "kernelspec": {
   "display_name": "Python 3",
   "language": "python",
   "name": "python3"
  },
  "language_info": {
   "codemirror_mode": {
    "name": "ipython",
    "version": 3
   },
   "file_extension": ".py",
   "mimetype": "text/x-python",
   "name": "python",
   "nbconvert_exporter": "python",
   "pygments_lexer": "ipython3",
   "version": "3.11.1"
  },
  "orig_nbformat": 4,
  "vscode": {
   "interpreter": {
    "hash": "aee8b7b246df8f9039afb4144a1f6fd8d2ca17a180786b69acc140d282b71a49"
   }
  }
 },
 "nbformat": 4,
 "nbformat_minor": 2
}
